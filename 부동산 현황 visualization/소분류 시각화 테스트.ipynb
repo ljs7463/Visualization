{
 "cells": [
  {
   "cell_type": "code",
   "execution_count": 1,
   "id": "b494cc13",
   "metadata": {},
   "outputs": [],
   "source": [
    "# 경로설정\n",
    "import sys\n",
    "path = \"C:\\github/aide-analysis/\"\n",
    "sys.path.append(path)\n",
    "\n",
    "import os\n",
    "import sys\n",
    "from pathlib import Path\n",
    "sys.path.append(str(Path(os.getcwd())))\n",
    "\n",
    "# 한글폰트\n",
    "import os\n",
    "import matplotlib.pyplot as plt\n",
    "if os.name =='posix':\n",
    "    plt.rc('font',family = 'ApplGothic')\n",
    "else:\n",
    "    plt.rc('font',family = 'Malgun Gothic')\n",
    "    \n",
    "# 경고출력문 제거\n",
    "import warnings\n",
    "warnings.filterwarnings(\"ignore\")\n",
    "\n",
    "# 모듈 import\n",
    "import pandas as pd\n",
    "import src\n",
    "from src.openapi import KakaoLocalAPI as kakao\n",
    "from openpyxl import load_workbook\n",
    "from src.utils import insert_dataframe_to_excel_sheet\n",
    "from src.sql import DatabaseHandler\n",
    "from src.temp import *\n",
    "from datetime import datetime\n",
    "import datetime\n",
    "from dateutil.relativedelta import relativedelta\n",
    "from src.bigquery import BigqueryHandler\n",
    "import seaborn as sns\n",
    "import numpy as np\n",
    "import statistics\n",
    "from tqdm import tqdm\n",
    "import config\n",
    "from core.config import Config\n",
    "import json\n",
    "from datetime import datetime\n",
    "import geopandas as gpd\n",
    "from tqdm import tqdm\n",
    "import folium\n",
    "from folium import plugins\n",
    "import requests\n",
    "import ast\n",
    "config = Config()\n",
    "BH = BigqueryHandler()\n",
    "\n",
    "\n",
    "# DataFrame 디스플레이 설정\n",
    "pd.set_option('display.max_columns', 250)\n",
    "pd.set_option('display.max_rows', 250)\n",
    "pd.set_option('display.width', 100)"
   ]
  },
  {
   "cell_type": "markdown",
   "id": "ee896434",
   "metadata": {},
   "source": [
    "< 주간시계열 >\n",
    "\n",
    "시계열 증감의 경우 특정시점으로부터의 증감을 표시한것인데 이는 시점에 따라 전혀 다른 시각화를 보여주기때문에 그대로 쓸 수있을까?? 혹은 다른보조지표와 함께 표현했을때 커버할 수 있는것이 있을까??"
   ]
  },
  {
   "cell_type": "code",
   "execution_count": null,
   "id": "494116cd",
   "metadata": {},
   "outputs": [],
   "source": [
    "sql =f\"\"\"\n",
    "SELECT\n",
    "FROM `aidepartners.aide.`\n",
    "\n",
    "\"\"\""
   ]
  }
 ],
 "metadata": {
  "kernelspec": {
   "display_name": "jupyter",
   "language": "python",
   "name": "jupyter"
  },
  "language_info": {
   "codemirror_mode": {
    "name": "ipython",
    "version": 3
   },
   "file_extension": ".py",
   "mimetype": "text/x-python",
   "name": "python",
   "nbconvert_exporter": "python",
   "pygments_lexer": "ipython3",
   "version": "3.10.4"
  },
  "toc": {
   "base_numbering": 1,
   "nav_menu": {},
   "number_sections": true,
   "sideBar": true,
   "skip_h1_title": false,
   "title_cell": "Table of Contents",
   "title_sidebar": "Contents",
   "toc_cell": false,
   "toc_position": {},
   "toc_section_display": true,
   "toc_window_display": false
  }
 },
 "nbformat": 4,
 "nbformat_minor": 5
}
